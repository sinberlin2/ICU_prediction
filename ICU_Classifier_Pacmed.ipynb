{
 "cells": [
  {
   "cell_type": "markdown",
   "metadata": {},
   "source": [
    "Install packages, Read in Data"
   ]
  },
  {
   "cell_type": "code",
   "execution_count": 1,
   "metadata": {},
   "outputs": [],
   "source": [
    "import numpy as np\n",
    "import pandas as pd\n",
    "import scipy.io as sio\n",
    "import os\n",
    "import matplotlib\n",
    "import matplotlib.pyplot as plt\n",
    "from sklearn.model_selection import train_test_split\n",
    "import os\n",
    "import datetime\n",
    "from sklearn.metrics import confusion_matrix \n",
    "#from sklearn.cross_validation import train_test_split \n",
    "from sklearn.tree import DecisionTreeClassifier \n",
    "from sklearn.metrics import accuracy_score \n",
    "from sklearn.metrics import classification_report "
   ]
  },
  {
   "cell_type": "markdown",
   "metadata": {},
   "source": [
    "Read in data "
   ]
  },
  {
   "cell_type": "code",
   "execution_count": 6,
   "metadata": {},
   "outputs": [],
   "source": [
    "#Measurements \n",
    "signals = pd.read_csv('./signal.csv', header=0, delimiter=\";\", index_col=0)  \n",
    "signals=signals.drop(signals.columns[[0]], axis=1, inplace=False)\n",
    "signals= signals.sort_values(by=['pat_id'])\n",
    "#signals"
   ]
  },
  {
   "cell_type": "markdown",
   "metadata": {},
   "source": [
    "Read in Age df. There are 1495 unique patients. On average there are 67 measurements per patient. There are no missing value and no double entries for patients. "
   ]
  },
  {
   "cell_type": "code",
   "execution_count": 7,
   "metadata": {
    "collapsed": false,
    "jupyter": {
     "outputs_hidden": false
    }
   },
   "outputs": [
    {
     "data": {
      "text/plain": [
       "0"
      ]
     },
     "execution_count": 7,
     "metadata": {},
     "output_type": "execute_result"
    }
   ],
   "source": [
    "age = pd.read_csv('./age.csv', header=0, delimiter=\";\", index_col=0) \n",
    "age= age.sort_values(by=['pat_id'])\n",
    "missing_age_rows= len(age.loc[age['age'].isnull()])  # no missing values for age \n",
    "missing_age_rows\n",
    "#print(len(age['pat_id'].unique())) # no double patient-ids\n"
   ]
  },
  {
   "cell_type": "raw",
   "metadata": {},
   "source": [
    "Read in Admissions file. There are 1569 admissions for 1495 patients. "
   ]
  },
  {
   "cell_type": "code",
   "execution_count": 8,
   "metadata": {
    "collapsed": false,
    "jupyter": {
     "outputs_hidden": false
    }
   },
   "outputs": [
    {
     "name": "stdout",
     "output_type": "stream",
     "text": [
      "1495\n"
     ]
    }
   ],
   "source": [
    "admission = pd.read_csv('./admission.csv', header=0, delimiter=\";\", index_col=0) \n",
    "print(len(admission['pat_id'].unique()))\n",
    "admission= admission.sort_values(by=['pat_id'])\n",
    "\n",
    "#admission\n"
   ]
  },
  {
   "cell_type": "markdown",
   "metadata": {},
   "source": [
    "### Extract features in admission and age"
   ]
  },
  {
   "cell_type": "markdown",
   "metadata": {},
   "source": [
    "#### Days Since Admission\n",
    "Change the dates to days since admission. I am assuming that the actual dates do not matter for predicting patient outcomes. "
   ]
  },
  {
   "cell_type": "code",
   "execution_count": 9,
   "metadata": {},
   "outputs": [],
   "source": [
    "#Calculate days spent in ICU\n",
    "admission['date_admission']= pd.to_datetime(admission['date_admission'])\n",
    "admission['date_discharge']= pd.to_datetime(admission['date_discharge'])\n",
    "admission['days_spent_in_icu']= admission['date_discharge'] - admission['date_admission']\n",
    "admission['days_spent_in_icu']= admission['days_spent_in_icu'].dt.days\n",
    "#admission"
   ]
  },
  {
   "cell_type": "code",
   "execution_count": 41,
   "metadata": {
    "collapsed": false,
    "jupyter": {
     "outputs_hidden": false
    }
   },
   "outputs": [],
   "source": [
    "#match age to each admission and fill in missing values\n",
    "#there are 67 pat_ids that we cant match. its a but weird, cause the length of the ids is the same in admission and age  \n",
    "\n",
    "# missing_age_adm= len(admission['pat_id'].unique())- len(age['pat_id'].unique())\n",
    "\n",
    "# pat_ids= admission['pat_id'].unique()\n",
    "# df= admission\n",
    "\n",
    "# age_dict2={}\n",
    "# pats_without_age=[]  \n",
    "\n",
    "# for i in pat_ids:\n",
    "#     indeces= df[df['pat_id']== i].index.tolist()  #gives at what indeces it comes up - the indeces are the measurements. \n",
    "#     age_k=age.loc[age['pat_id']==i, 'age'].values.tolist()\n",
    "#     if len(age_k)!=1:\n",
    "#         age_k= [60.0]  # before NAN now median age\n",
    "#         pats_without_age.append(i)\n",
    "#     for k in (range(len(indeces))):\n",
    "#         age_dict2[indeces[k]]= age_k[0]\n",
    "# #there is one outlier, and I think I would just get rid of the row.\n",
    "# len(age_dict2)\n",
    "\n",
    "# age_df2= pd.DataFrame.from_dict(age_dict2, orient='index')\n",
    "# age_df2.columns=['age']\n",
    "\n",
    "# admission_c= admission\n",
    "# admission_c['age']= age_df2['age']\n",
    "\n",
    "# print(admission_c)\n"
   ]
  },
  {
   "cell_type": "code",
   "execution_count": 10,
   "metadata": {
    "collapsed": false,
    "jupyter": {
     "outputs_hidden": false
    }
   },
   "outputs": [],
   "source": [
    "#pandas alternative with merge, I think and then decide what to do with missing value. Left \n",
    "\n",
    "admission  = pd.merge(admission, age, on=['pat_id'], how='left').fillna('60')\n",
    "\n",
    "\n"
   ]
  },
  {
   "cell_type": "markdown",
   "metadata": {},
   "source": [
    "#### Readmitted or Not\n",
    "readmitted wil be our y dataset.\n",
    "1492 out of 1566 patients are not readmitted. We have imbalanced classes, so we need to respect that later on. "
   ]
  },
  {
   "cell_type": "code",
   "execution_count": 329,
   "metadata": {
    "collapsed": true,
    "jupyter": {
     "outputs_hidden": true
    }
   },
   "outputs": [],
   "source": [
    "# pat_ids= admission['pat_id'].unique()\n",
    "# df= admission\n",
    "# dict={}\n",
    "# readmitted={}\n",
    "\n",
    "# for i in pat_ids:\n",
    "#     indeces= df[df['pat_id']== i].index.tolist()  #gives at what indeces it comes up \n",
    "#     last_stay=len(indeces)\n",
    "#     for k in (range(len(indeces))):\n",
    "#         dict[indeces[k]]=k\n",
    "#         if k+1 == last_stay:\n",
    "#             readmitted[indeces[k]]=0\n",
    "#         else:\n",
    "#             readmitted[indeces[k]]=1"
   ]
  },
  {
   "cell_type": "code",
   "execution_count": 330,
   "metadata": {
    "collapsed": true,
    "jupyter": {
     "outputs_hidden": true
    }
   },
   "outputs": [],
   "source": [
    "# readmitted= pd.DataFrame.from_dict(readmitted, orient='index')\n",
    "# readmitted.columns=['readmitted']\n",
    "# readmitted['admission_id']= admission.index"
   ]
  },
  {
   "cell_type": "code",
   "execution_count": 13,
   "metadata": {
    "collapsed": false,
    "jupyter": {
     "outputs_hidden": false
    }
   },
   "outputs": [
    {
     "name": "stdout",
     "output_type": "stream",
     "text": [
      "0       0\n",
      "1       0\n",
      "2       0\n",
      "3       0\n",
      "4       0\n",
      "       ..\n",
      "1564    0\n",
      "1565    0\n",
      "1566    0\n",
      "1567    0\n",
      "1568    0\n",
      "Length: 1569, dtype: int64\n",
      "      pat_id date_admission date_discharge  days_spent_in_icu age  readmitted\n",
      "0          0     2016-01-05     2016-01-07                  2  35           0\n",
      "1          1     2014-07-04     2014-07-06                  2  77           0\n",
      "2          3     2014-10-16     2014-10-20                  4  61           0\n",
      "3          4     2015-02-06     2015-02-07                  1  27           0\n",
      "4          5     2014-12-06     2014-12-08                  2  67           0\n",
      "...      ...            ...            ...                ...  ..         ...\n",
      "1564    1564     2016-07-29     2016-07-30                  1  87           0\n",
      "1565    1565     2015-04-21     2015-04-22                  1  68           0\n",
      "1566    1566     2015-01-10     2015-01-10                  0  73           0\n",
      "1567    1567     2015-01-31     2015-02-01                  1  83           0\n",
      "1568    1568     2016-01-18     2016-01-19                  1  64           0\n",
      "\n",
      "[1569 rows x 6 columns]\n",
      "0                                                               0\n",
      "1                                                               0\n",
      "2                                                               0\n",
      "3                                                               0\n",
      "4                                                               0\n",
      "                                      ...                        \n",
      "1565                                                            0\n",
      "1566                                                            0\n",
      "1567                                                            0\n",
      "1568                                                            0\n",
      "admission_id    Int64Index([   0,    1,    2,    3,    4,    5...\n",
      "Length: 1570, dtype: object\n"
     ]
    }
   ],
   "source": [
    "#Pandas alterntative again \n",
    "#readmitted groupby pat_id, count, put back in orginal order \n",
    "readmitted= admission.groupby('pat_id').cumcount().apply(lambda x: x if x==0 else 1 )\n",
    "admission['readmitted']= readmitted\n",
    "readmitted['admission_id']= admission.index #think unnecessary\n",
    "\n"
   ]
  },
  {
   "cell_type": "markdown",
   "metadata": {},
   "source": [
    "### Assign Admission id to measurments in signals "
   ]
  },
  {
   "cell_type": "code",
   "execution_count": 14,
   "metadata": {},
   "outputs": [
    {
     "name": "stdout",
     "output_type": "stream",
     "text": [
      "      pat_id date_admission date_discharge  days_spent_in_icu age  readmitted  \\\n",
      "0          0     2016-01-05     2016-01-07                  2  35           0   \n",
      "1          1     2014-07-04     2014-07-06                  2  77           0   \n",
      "2          3     2014-10-16     2014-10-20                  4  61           0   \n",
      "3          4     2015-02-06     2015-02-07                  1  27           0   \n",
      "4          5     2014-12-06     2014-12-08                  2  67           0   \n",
      "...      ...            ...            ...                ...  ..         ...   \n",
      "1564    1564     2016-07-29     2016-07-30                  1  87           0   \n",
      "1565    1565     2015-04-21     2015-04-22                  1  68           0   \n",
      "1566    1566     2015-01-10     2015-01-10                  0  73           0   \n",
      "1567    1567     2015-01-31     2015-02-01                  1  83           0   \n",
      "1568    1568     2016-01-18     2016-01-19                  1  64           0   \n",
      "\n",
      "      admission_id  \n",
      "0                0  \n",
      "1                1  \n",
      "2                2  \n",
      "3                3  \n",
      "4                4  \n",
      "...            ...  \n",
      "1564          1564  \n",
      "1565          1565  \n",
      "1566          1566  \n",
      "1567          1567  \n",
      "1568          1568  \n",
      "\n",
      "[1569 rows x 7 columns]\n"
     ]
    }
   ],
   "source": [
    "#Assign admissionid to each row in signals\n",
    " \n",
    "admission['admission_id']= admission.index\n",
    "\n",
    "adm_ids=[]   #should maybe change to admission id\n",
    "days_since_admission=[]\n",
    "\n",
    "for index,row in signals.iterrows():\n",
    "    #index has the info of where we are in signals \n",
    "    #get the admission data for the corresponding patient of the row we consider in signals\n",
    "    actually_patient= admission.loc[(admission['pat_id']==row['pat_id'])]\n",
    "    \n",
    "    # find out to which stay (admission period) the row measurement corresponds to - assign admission id\n",
    "    patient_visit= actually_patient.loc[(actually_patient['date_admission']<=row['day']) &(admission['date_discharge']>=row['day'])]\n",
    "    adm_id=patient_visit['admission_id'].values.tolist()\n",
    "    #some measurements are not within a registered admission period, so assign admission ID NA to those \n",
    "    if adm_id== []:\n",
    "        adm_id= \"NA\"  \n",
    "        days_since_adm= \"NA\"\n",
    "    \n",
    "    else:\n",
    "        adm_id=adm_id[0]\n",
    "        #get feature days since admission by comparing the day of the measurement with the day of admission \n",
    "        day_adm=patient_visit['date_admission'].values[0]\n",
    "        day_adm= pd.to_datetime(day_adm).date()\n",
    "        day_cur= pd.to_datetime(row['day']).date() \n",
    "        days_since_adm= day_cur- day_adm   #calculate timedelta\n",
    "        days_since_adm= days_since_adm.days  #get no of days\n",
    "    \n",
    "    adm_ids.append(adm_id)\n",
    "    days_since_admission.append(days_since_adm)\n",
    "\n"
   ]
  },
  {
   "cell_type": "code",
   "execution_count": null,
   "metadata": {
    "collapsed": true,
    "jupyter": {
     "outputs_hidden": true
    }
   },
   "outputs": [],
   "source": []
  },
  {
   "cell_type": "code",
   "execution_count": 15,
   "metadata": {},
   "outputs": [],
   "source": [
    "signals['admission_id']=adm_ids\n",
    "signals['days_since_adm']= days_since_admission\n"
   ]
  },
  {
   "cell_type": "code",
   "execution_count": 333,
   "metadata": {
    "collapsed": true,
    "jupyter": {
     "outputs_hidden": true
    }
   },
   "outputs": [],
   "source": [
    "print(signals)\n",
    "#could also one hot encode parameters, leave value\n",
    "signals.loc[signals['parameter'] == 'blood_pressure', 'blood_pressure'] = signals['value'] \n",
    "signals.loc[signals['parameter'] == 'respiration_rate', 'respiration_rate'] = signals['value'] \n",
    "signals.loc[signals['parameter'] == 'temperature', 'temperature'] = signals['value'] \n",
    "signals=signals.drop(columns=['parameter', 'value'])"
   ]
  },
  {
   "cell_type": "markdown",
   "metadata": {},
   "source": [
    "### do feature engineering with the measurments (signals) "
   ]
  },
  {
   "cell_type": "markdown",
   "metadata": {},
   "source": [
    "After some inspection of the data, the blood pressure measurements are quite complex, and there are many measurements. \n",
    "Now we calculte min and max, median and standard deviation as features for blood pressure per stay. \n",
    "The temperature are usually only a few measurements, so probably the median is sufficient. \n",
    "Since there is a quite some variation in the data, the median is preferred over the mean. \n",
    "I have some open questions about the repiration data, as the values are mostly much lower than the normal range for adults. \n",
    "When visualising the measurements, we see that there are some potential outliers for blood pressure. However, these could also be the actual measurements and the reason why the patients are in the intensive care unit. \n",
    "Therefore we will not remove outliers at this point. (We could try it and compare the effects though)\n"
   ]
  },
  {
   "cell_type": "code",
   "execution_count": 334,
   "metadata": {
    "collapsed": true,
    "jupyter": {
     "outputs_hidden": true
    }
   },
   "outputs": [],
   "source": [
    "import math\n",
    "admission_ids= admission.index\n",
    "\n",
    "\n",
    "measurements_per_adm=[]\n",
    "bp_median_dict={}\n",
    "bp_min_dict={}\n",
    "bp_max_dict={}\n",
    "bp_std_dict={}\n",
    "temp_median_dict={}\n",
    "temp_min_dict={}\n",
    "temp_max_dict={}\n",
    "resp_median_dict={}\n",
    "resp_min_dict={}\n",
    "resp_max_dict={}\n",
    "\n",
    "for adm_id in admission_ids:\n",
    "    visit= signals.loc[signals['admission_id']==adm_id]\n",
    "\n",
    "# commented code for visualisatin \n",
    "#     with pd.option_context('display.max_rows', None, 'display.max_columns', None): # more options can be specified also \n",
    "#         print(visit)\n",
    "#     measurement_no=range(len(visit))\n",
    "#   visit['measurement_no']= measurement_no\n",
    "    #measurements_per_adm.append(measurement_no)\n",
    "    #meanbp=visit['blood_pressure'].mean(axis=0)\n",
    "    \n",
    "    \n",
    "    median_bp=visit['blood_pressure'].median(axis=0)\n",
    "    max_bp=visit['blood_pressure'].max(axis=0)\n",
    "    min_bp=visit['blood_pressure'].min(axis=0)\n",
    "    std_bp=visit['blood_pressure'].std(axis=0)\n",
    "    #visit.plot(kind='scatter',x= ['measurement_no'], y='blood_pressure',color='red')\n",
    "    bp_median_dict[adm_id]=median_bp\n",
    "    bp_min_dict[adm_id]=min_bp\n",
    "    bp_max_dict[adm_id]=max_bp\n",
    "    bp_std_dict[adm_id]=std_bp\n",
    "    #visit.plot(kind='scatter',x= ['measurement_no'], y='temperature',color='red')\n",
    "    \n",
    "    median_temp=visit['temperature'].median(axis=0)\n",
    "    max_temp=visit['temperature'].max(axis=0)\n",
    "    min_temp=visit['temperature'].min(axis=0)\n",
    "#    visit.plot(kind='scatter',x= ['measurement_no'], y='temperature',color='red')\n",
    "    temp_median_dict[adm_id]=median_temp\n",
    "    temp_min_dict[adm_id]=min_temp\n",
    "    temp_max_dict[adm_id]=max_temp\n",
    "    \n",
    "\n",
    "\n",
    "    #visit.plot(kind='scatter',x= ['measurement_no'], y='respiration_rate',color='red')\n",
    "    median_resp=visit['respiration_rate'].median(axis=0)  #inspected data and median makes more sense to me \n",
    "    mean_resp=visit['respiration_rate'].mean(axis=0)\n",
    "    max_resp=visit['respiration_rate'].max(axis=0)\n",
    "    min_resp=visit['respiration_rate'].min(axis=0)\n",
    "    resp_median_dict[adm_id]=median_resp\n",
    "    resp_min_dict[adm_id]=min_resp\n",
    "    resp_max_dict[adm_id]=max_resp\n",
    "\n",
    "\n"
   ]
  },
  {
   "cell_type": "code",
   "execution_count": 335,
   "metadata": {
    "collapsed": true,
    "jupyter": {
     "outputs_hidden": true
    }
   },
   "outputs": [],
   "source": [
    "bp_median_df= pd.DataFrame.from_dict(bp_median_dict, orient='index')\n",
    "bp_median_df.columns=['bp_median']\n",
    "bp_min_df= pd.DataFrame.from_dict(bp_min_dict, orient='index')\n",
    "bp_min_df.columns=['bp_min']\n",
    "bp_max_df= pd.DataFrame.from_dict(bp_max_dict, orient='index')\n",
    "bp_max_df.columns=['bp_max']\n",
    "bp_std_df= pd.DataFrame.from_dict(bp_std_dict, orient='index')\n",
    "bp_std_df.columns=['bp_std']\n",
    "\n",
    "resp_median_df= pd.DataFrame.from_dict(resp_median_dict, orient='index')\n",
    "resp_median_df.columns=['resp_median']\n",
    "temp_median_df= pd.DataFrame.from_dict(temp_median_dict, orient='index')\n",
    "temp_median_df.columns=['temp_median']"
   ]
  },
  {
   "cell_type": "markdown",
   "metadata": {},
   "source": [
    "### Create first version of our X\n",
    "Add all the relevant features in a new dataframe with each row representing one admission"
   ]
  },
  {
   "cell_type": "code",
   "execution_count": 336,
   "metadata": {
    "collapsed": true,
    "jupyter": {
     "outputs_hidden": true
    }
   },
   "outputs": [],
   "source": [
    "new_x= admission\n",
    "new_x= new_x.drop(columns=['pat_id', 'date_admission', 'date_discharge'])\n",
    "\n",
    "new_x['bp_median']= bp_median_df['bp_median']\n",
    "new_x['bp_min']= bp_min_df['bp_min']\n",
    "new_x['bp_max']= bp_max_df['bp_max']\n",
    "new_x['bp_std']= bp_std_df['bp_std']\n",
    "\n",
    "new_x['resp_median']= resp_median_df['resp_median']\n",
    "new_x['temp_median']= temp_median_df['temp_median']"
   ]
  },
  {
   "cell_type": "markdown",
   "metadata": {},
   "source": [
    "### Outlier detection and Missing values "
   ]
  },
  {
   "cell_type": "markdown",
   "metadata": {},
   "source": [
    "### Check missing values - Fill or remove\n",
    "#normal blood pressure 120-139\n",
    "#normal temp 37 (36-37), fever from 38 \n",
    "#normal respiratory rate 12-20 , depends on age - so a bit strange that the respitation rate is often around 2 \n",
    "#there are also some outliers that need to be fixed actually - bp 500 \n",
    "#drop 8 rows where we don't have age data."
   ]
  },
  {
   "cell_type": "code",
   "execution_count": 337,
   "metadata": {
    "collapsed": true,
    "jupyter": {
     "outputs_hidden": true
    }
   },
   "outputs": [],
   "source": [
    "new_x\n",
    "# new_x['bp_median'].median()\n",
    "# new_x['bp_max'].median()\n",
    "# new_x['bp_min'].median()\n",
    "# new_x['bp_min'].median()\n",
    "# new_x['temp_median'].mean()\n",
    "#new_x['resp_median'].mean()\n",
    "\n",
    "#check if rows have 3 or more NAs- so no measurements were taken and remove them. We remove 61 rows. \n",
    "indeces_no_measurements= new_x.loc[new_x.isnull().sum(axis=1) >=3].index\n",
    "old_x= new_x\n",
    "new_x= new_x.drop(indeces_no_measurements)\n"
   ]
  },
  {
   "cell_type": "code",
   "execution_count": 381,
   "metadata": {
    "collapsed": true,
    "jupyter": {
     "outputs_hidden": true
    }
   },
   "outputs": [],
   "source": [
    "#check for negative (impossible) values. Found none\n",
    "data= new_x\n",
    "indeces=[]\n",
    "for cols in data.columns[1:]:\n",
    "    data = data.loc[data[cols] <0]\n",
    "    indeces.append(data.index)\n"
   ]
  },
  {
   "cell_type": "markdown",
   "metadata": {},
   "source": [
    "#Extreme outliers\n",
    "Highest recorded blood pressure was 360. This corresponds to a threshold of 3 standard deviations.\n",
    "We keep a threshold of 3 standard deviations for outlier detection. \n",
    "For blood pressure, we found 45 admissions with outliers. \n",
    "\n",
    "For temperature, we dont perform any removal of outliers. There are only 2 values 35 and 39 that could maybe be physiological. \n",
    "Respiratory rate I am not sure about. There are 81 measurements that are classified as outliers. These are all around a value of 20 which is within the physiological adult range. The mean however is 6 (below the physiological range). I chose not to remove the measurements.\n",
    "\n"
   ]
  },
  {
   "cell_type": "code",
   "execution_count": 390,
   "metadata": {
    "collapsed": true,
    "jupyter": {
     "outputs_hidden": true
    }
   },
   "outputs": [],
   "source": [
    "#unction for outlier detection\n",
    "outliers=[]\n",
    "outlier_index=[]\n",
    "def detect_outlier(df, column):\n",
    "    \n",
    "    \n",
    "    threshold=3\n",
    "    mean_1 =df[column].mean().tolist()[0]\n",
    "    std_1 =df[column].std().tolist()[0]\n",
    "    \n",
    "    for index,row in df.iterrows():\n",
    "    #index has the ifo of where we are in signals \n",
    "        y= row[column].tolist()[0]\n",
    "        z_score= (y- mean_1)/std_1 \n",
    "        if np.abs(z_score) > threshold:\n",
    "            outliers.append(row[column])\n",
    "            outlier_index.append(index)\n",
    "            \n",
    "    return outliers,outlier_index\n",
    "\n"
   ]
  },
  {
   "cell_type": "code",
   "execution_count": 392,
   "metadata": {
    "collapsed": true,
    "jupyter": {
     "outputs_hidden": true
    }
   },
   "outputs": [],
   "source": [
    "#Outlier Blood Presssure  \n",
    "outlier_index_bp_max= detect_outlier(data, column=['bp_max'])[1]\n",
    "outlier_index_bp_min= detect_outlier(new_x, column=['bp_min'])[1]\n",
    "outlier_bp_median, outlier_index_bp_median= detect_outlier(new_x, column=['bp_median'])\n",
    "\n",
    "outlier_index_bp=list(set(outlier_index_bp_max+ outlier_index_bp_min+ outlier_index_bp_median))\n",
    "new_x= new_x.drop(index=outlier_index_bp)"
   ]
  },
  {
   "cell_type": "code",
   "execution_count": 391,
   "metadata": {
    "collapsed": false,
    "jupyter": {
     "outputs_hidden": false
    }
   },
   "outputs": [
    {
     "name": "stdout",
     "output_type": "stream",
     "text": [
      "[resp_median    23.99\n",
      "Name: 22787, dtype: float64, resp_median    19.99\n",
      "Name: 23179, dtype: float64, resp_median    20.0\n",
      "Name: 23900, dtype: float64, resp_median    20.0\n",
      "Name: 20091, dtype: float64, resp_median    20.0\n",
      "Name: 22080, dtype: float64, resp_median    20.01\n",
      "Name: 23787, dtype: float64, resp_median    20.01\n",
      "Name: 23413, dtype: float64, resp_median    20.005\n",
      "Name: 19645, dtype: float64, resp_median    23.99\n",
      "Name: 19664, dtype: float64, resp_median    29.99\n",
      "Name: 23261, dtype: float64, resp_median    19.99\n",
      "Name: 19926, dtype: float64, resp_median    19.99\n",
      "Name: 19548, dtype: float64, resp_median    24.0\n",
      "Name: 22508, dtype: float64, resp_median    19.995\n",
      "Name: 20398, dtype: float64, resp_median    29.99\n",
      "Name: 23664, dtype: float64, resp_median    19.99\n",
      "Name: 20538, dtype: float64, resp_median    19.995\n",
      "Name: 23734, dtype: float64, resp_median    20.0\n",
      "Name: 19499, dtype: float64, resp_median    19.99\n",
      "Name: 19587, dtype: float64, resp_median    20.01\n",
      "Name: 22318, dtype: float64, resp_median    20.0\n",
      "Name: 23979, dtype: float64, resp_median    20.0\n",
      "Name: 22437, dtype: float64, resp_median    20.01\n",
      "Name: 22922, dtype: float64, resp_median    19.99\n",
      "Name: 21872, dtype: float64, resp_median    20.01\n",
      "Name: 21499, dtype: float64, resp_median    23.99\n",
      "Name: 20795, dtype: float64, resp_median    20.0\n",
      "Name: 19984, dtype: float64, resp_median    29.99\n",
      "Name: 23649, dtype: float64, resp_median    19.99\n",
      "Name: 19943, dtype: float64, resp_median    24.01\n",
      "Name: 22705, dtype: float64, resp_median    19.99\n",
      "Name: 20884, dtype: float64, resp_median    19.995\n",
      "Name: 21381, dtype: float64, resp_median    20.0\n",
      "Name: 21191, dtype: float64, resp_median    20.0\n",
      "Name: 20783, dtype: float64, resp_median    29.99\n",
      "Name: 20303, dtype: float64, resp_median    20.01\n",
      "Name: 23959, dtype: float64, resp_median    23.99\n",
      "Name: 23760, dtype: float64]\n",
      "37\n"
     ]
    }
   ],
   "source": [
    "#Outlier Respiration\n",
    "outlier_resp_median, outlier_index_resp_median= detect_outlier(new_x, column=['resp_median'])\n",
    "print(outlier_resp_median)\n",
    "print(len(outlier_resp_median))\n",
    "# new_x1=new_x.drop(outlier_index_resp_median)\n"
   ]
  },
  {
   "cell_type": "markdown",
   "metadata": {},
   "source": [
    "#### Missing values"
   ]
  },
  {
   "cell_type": "code",
   "execution_count": 383,
   "metadata": {
    "collapsed": true,
    "jupyter": {
     "outputs_hidden": true
    }
   },
   "outputs": [],
   "source": [
    "# For the remainder, we assume that the measurements were not taken, because it didnt seem necessary. \n",
    "#I will drop the rows where the respiration rate was not recorded, because I am unsure how to fill it and it is only 43 rows. \n",
    "\n",
    "new_x['bp_median']= new_x['bp_median'].fillna(130.0)\n",
    "new_x['bp_min']= new_x['bp_min'].fillna(120.0)\n",
    "new_x['bp_max']= new_x['bp_max'].fillna(140.0)\n",
    "new_x['temp_median']= new_x['temp_median'].fillna(37.0)\n",
    "new_x['bp_std']= new_x['bp_std'].fillna(new_x['bp_std'].mean())\n",
    "\n",
    "#respiration rate\n",
    "#new_x['resp_median']= new_x['resp_median'].fillna(12.0)\n",
    "no_resp_indeces= new_x.loc[new_x['resp_median'].isnull()].index# 43 admissions without respiration rate recorded\n",
    "new_x= new_x.drop(no_resp_indeces)\n",
    "\n"
   ]
  },
  {
   "cell_type": "markdown",
   "metadata": {},
   "source": [
    "### Create the final datasets for model generation"
   ]
  },
  {
   "cell_type": "code",
   "execution_count": 393,
   "metadata": {
    "collapsed": false,
    "jupyter": {
     "outputs_hidden": false
    }
   },
   "outputs": [
    {
     "data": {
      "text/plain": [
       "array([0, 0, 0, ..., 0, 0, 0], dtype=int64)"
      ]
     },
     "execution_count": 393,
     "metadata": {},
     "output_type": "execute_result"
    }
   ],
   "source": [
    "#import the necessary module\n",
    "from sklearn import preprocessing\n",
    "#combined dataset\n",
    "dataset = pd.merge(readmitted, new_x, on=['admission_id'], how='inner')\n",
    "dataset= dataset.drop(columns=['admission_id'])\n",
    "dataset_copy = dataset.copy()\n",
    "X= dataset_copy\n",
    "Y= X.pop('readmitted')\n",
    "# create the Labelencoder object\n",
    "le = preprocessing.LabelEncoder()\n",
    "#convert the categorical columns into numeric\n",
    "Y = le.fit_transform(Y)\n",
    "Y"
   ]
  },
  {
   "cell_type": "markdown",
   "metadata": {},
   "source": [
    "#### Oversampling datasets\n",
    "I tried oversampling and Undersampling. Undersampling doesnt work, because then the test and training sets are too small. For example the test set would be 40 samples not 440. \n",
    "Oversampling resulted in a lower performance of the models. The oversampling might cause some overfitting. "
   ]
  },
  {
   "cell_type": "code",
   "execution_count": 394,
   "metadata": {
    "collapsed": true,
    "jupyter": {
     "outputs_hidden": true
    }
   },
   "outputs": [],
   "source": [
    "from imblearn.over_sampling import RandomOverSampler   \n",
    "rus = RandomOverSampler(random_state=0)\n",
    "X_resampled, y_resampled = rus.fit_resample(X, Y)\n",
    "X_resampled= pd.DataFrame(X_resampled)\n",
    "X_resampled.columns = list(X.columns)\n"
   ]
  },
  {
   "cell_type": "markdown",
   "metadata": {},
   "source": [
    "### Split data intp training and test set. \n"
   ]
  },
  {
   "cell_type": "code",
   "execution_count": 395,
   "metadata": {
    "collapsed": true,
    "jupyter": {
     "outputs_hidden": true
    }
   },
   "outputs": [],
   "source": [
    "#X_train, X_test, y_train, y_test = train_test_split( X_resampled, y_resampled, test_size = 0.3, random_state = 100) "
   ]
  },
  {
   "cell_type": "code",
   "execution_count": 396,
   "metadata": {
    "collapsed": true,
    "jupyter": {
     "outputs_hidden": true
    }
   },
   "outputs": [],
   "source": [
    "X_train, X_test, y_train, y_test = train_test_split( X, Y, test_size = 0.3, random_state = 100) "
   ]
  },
  {
   "cell_type": "markdown",
   "metadata": {},
   "source": [
    "### Classification Algorithms. "
   ]
  },
  {
   "cell_type": "code",
   "execution_count": 397,
   "metadata": {
    "collapsed": true,
    "jupyter": {
     "outputs_hidden": true
    }
   },
   "outputs": [],
   "source": [
    "#Decision tree functions with balanced class weights. \n",
    "\n",
    "# Function to perform training with entropy. \n",
    "def train_using_entropy(X_train, X_test, y_train): \n",
    "\n",
    "\t# Decision tree with entropy \n",
    "\tclf_entropy = DecisionTreeClassifier( \n",
    "\t\t\tcriterion = \"entropy\", random_state = 100, \n",
    "\t\t\tmax_depth = 3, min_samples_leaf = 5, class_weight= \"balanced\" ) #\n",
    "\n",
    "\t# Performing training \n",
    "\tclf_entropy.fit(X_train, y_train) \n",
    "\treturn clf_entropy \n",
    "\n",
    "\n",
    "# Function to make predictions \n",
    "def prediction(X_test, clf_object): \n",
    "\n",
    "\t# Predicton on test with giniIndex \n",
    "\ty_pred = clf_object.predict(X_test) \n",
    "# \tprint(\"Predicted values:\") \n",
    "#\tprint(y_pred) \n",
    "\treturn y_pred "
   ]
  },
  {
   "cell_type": "code",
   "execution_count": 398,
   "metadata": {
    "collapsed": true,
    "jupyter": {
     "outputs_hidden": true
    }
   },
   "outputs": [],
   "source": [
    "#Standard Neural Network. No class weighting possible \n",
    "from sklearn.model_selection import GridSearchCV\n",
    "from sklearn.neural_network import MLPClassifier\n",
    "\n",
    "#Normal neural net\n",
    "def feedforward_neural_network( train_X, train_y, test_X, hidden_layer_sizes=(3,), max_iter=500, activation='logistic', alpha=0.001, learning_rate='adaptive', print_model_details=False):\n",
    "\n",
    "\n",
    "        # Create the model\n",
    "        nn = MLPClassifier(hidden_layer_sizes=hidden_layer_sizes, activation=activation, max_iter=max_iter, learning_rate=learning_rate, alpha=alpha)\n",
    "\n",
    "        # Fit the model\n",
    "        nn.fit(train_X, train_y.ravel())\n",
    "\n",
    "        # Apply the model\n",
    "        pred_prob_training_y = nn.predict_proba(train_X)\n",
    "        pred_prob_test_y = nn.predict_proba(test_X)\n",
    "        pred_training_y = nn.predict(train_X)\n",
    "        pred_test_y = nn.predict(test_X)\n",
    "        frame_prob_training_y = pd.DataFrame(pred_prob_training_y, columns=nn.classes_)\n",
    "        frame_prob_test_y = pd.DataFrame(pred_prob_test_y, columns=nn.classes_)\n",
    "\n",
    "        return (pred_test_y, pred_training_y)  #, pred_test_y, frame_prob_training_y, frame_prob_test_y"
   ]
  },
  {
   "cell_type": "code",
   "execution_count": 399,
   "metadata": {
    "collapsed": true,
    "jupyter": {
     "outputs_hidden": true
    }
   },
   "outputs": [],
   "source": [
    "#SVM we can make balanced. Here we also implemented a grid search. \n",
    "#from sklearn import svm\n",
    "from sklearn.svm import SVC\n",
    "def support_vector_machine_with_kernel(train_X, train_y, test_X, kernel='rbf', C=1, gamma=1e-3, gridsearch=False, print_model_details=False):\n",
    "    # Create the model\n",
    "    if gridsearch:\n",
    "        tuned_parameters = [{'kernel': ['rbf', 'poly'], 'gamma': [1e-3, 1e-4],\n",
    "                     'C': [1, 10, 50]}]\n",
    "        svm = GridSearchCV(SVC(probability=True), tuned_parameters, cv=3, scoring='accuracy')\n",
    "    else:\n",
    "        svm = SVC(C=C, kernel=kernel, gamma=gamma, probability=True, cache_size=7000, class_weight='balanced')\n",
    "\n",
    "    # Fit the model\n",
    "    svm.fit(train_X, train_y.ravel())\n",
    "\n",
    "    if gridsearch and print_model_details:\n",
    "        print(svm.best_params_)\n",
    "\n",
    "    if gridsearch:\n",
    "        svm = svm.best_estimator_\n",
    "\n",
    "    # Apply the model\n",
    "    pred_prob_training_y = svm.predict_proba(train_X)\n",
    "    pred_prob_test_y = svm.predict_proba(test_X)\n",
    "    pred_training_y = svm.predict(train_X)\n",
    "    pred_test_y = svm.predict(test_X)\n",
    "    frame_prob_training_y = pd.DataFrame(pred_prob_training_y, columns=svm.classes_)\n",
    "    frame_prob_test_y = pd.DataFrame(pred_prob_test_y, columns=svm.classes_)\n",
    "\n",
    "    return (pred_test_y, pred_training_y) #pred_training_y, pred_test_y, frame_prob_training_y, frame_prob_test_y\n"
   ]
  },
  {
   "cell_type": "code",
   "execution_count": 400,
   "metadata": {
    "collapsed": true,
    "jupyter": {
     "outputs_hidden": true
    }
   },
   "outputs": [],
   "source": [
    "#XGBoost with weighted classes. \n",
    "\n",
    "from sklearn.model_selection import GridSearchCV\n",
    "from sklearn.datasets import make_classification\n",
    "from sklearn.model_selection import cross_val_score\n",
    "from sklearn.model_selection import RepeatedStratifiedKFold\n",
    "from xgboost import XGBClassifier\n",
    "\n",
    "def xgboost(X_train, y_train, X_test):\n",
    "\n",
    "    # define model\n",
    "    xgb = XGBClassifier(scale_pos_weight=99)\n",
    "    # define grid\n",
    "    weights = [1, 10, 25, 50, 75, 99, 100, 1000]\n",
    "    param_grid = {}\n",
    "    param_grid['scale_pos_weight']=weights\n",
    "    \n",
    "    # define evaluation procedure\n",
    "    cv = RepeatedStratifiedKFold(n_splits=10, n_repeats=3, random_state=1)\n",
    "    # define grid search\n",
    "    grid = GridSearchCV(estimator=xgb, param_grid=param_grid, n_jobs=-1, cv=cv, scoring='f1')  \n",
    "    # execute the grid search\n",
    "    grid_result = grid.fit(X_train, y_train)\n",
    "    #scores = cross_val_score(xgb, X_test, y_test, scoring='f1', cv=cv, n_jobs=-1)\n",
    "    print(grid.best_params_)\n",
    "    \n",
    "    pred_train_y = grid_result.predict(X_train)\n",
    "    pred_test_y = grid_result.predict(X_test)\n",
    "    \n",
    "    return(pred_test_y, pred_train_y)\n",
    "    \n"
   ]
  },
  {
   "cell_type": "markdown",
   "metadata": {},
   "source": [
    "### Feature Selection \n",
    "We select which features to include in our final models. We use the F1 score instead of accuracy to evaluate models. "
   ]
  },
  {
   "cell_type": "code",
   "execution_count": 401,
   "metadata": {},
   "outputs": [],
   "source": [
    "import copy\n",
    "from matplotlib.pyplot import *\n",
    "import sklearn.metrics as metrics\n",
    "\n",
    "# Specifies feature selection approaches for classification to identify the most important features.\n",
    "class FeatureSelectionClassification:\n",
    "\n",
    "    # Forward selection for classification which selects a pre-defined number of features (max_features)\n",
    "    # that show the best accuracy. We assume a decision tree learning for this purpose, but\n",
    "    # this can easily be changed. It return the best features.\n",
    "    def forward_selection(self, max_features, X_train, y_train):\n",
    "        # Start with no features.\n",
    "        ordered_features = []\n",
    "        ordered_scores = []\n",
    "        selected_features = []\n",
    "        \n",
    "        prev_best_perf = 0\n",
    "\n",
    "        # Select the appropriate number of features.\n",
    "        for i in range(0, max_features):\n",
    "\n",
    "            #Determine the features left to select.\n",
    "            features_left = list(set(X_train.columns) - set(selected_features))\n",
    "            #print(features_left)\n",
    "            best_perf = 0\n",
    "            best_attribute = ''\n",
    "\n",
    "            # For all features we can still select...\n",
    "            for f in features_left:\n",
    "                temp_selected_features = copy.deepcopy(selected_features)\n",
    "                temp_selected_features.append(f)\n",
    "                print(temp_selected_features)\n",
    "                \n",
    "                #Can do feature selection with the various algorithms. \n",
    "\n",
    "                # Determine the accuracy of a decision tree learner if we were to add\n",
    "#                 # Decision tree\n",
    "#                 clf_fit= train_using_entropy(X_train[temp_selected_features], X_test[temp_selected_features], y_train)\n",
    "#                 y_pred = prediction(X_test[temp_selected_features], clf_fit)# ce.accuracy(y_train, pred_y_train)\n",
    "#                 perf= metrics.f1_score(y_test, y_pred, average= \"weighted\")\n",
    "                \n",
    "#                 #Normal Neural net, problem no weighted classes\n",
    "#                 y_pred = feedforward_neural_network(X_train[temp_selected_features], y_train, X_test[temp_selected_features])[0]\n",
    "#                 perf= metrics.f1_score(y_test, y_pred, average= \"weighted\")\n",
    "                \n",
    "                #SVM with kernel, without grid search it takes ages\n",
    "#                 y_pred = support_vector_machine_with_kernel(X_train[temp_selected_features], y_train, X_test[temp_selected_features])[0]\n",
    "#                 perf= metrics.f1_score(y_test, y_pred, average= \"weighted\")\n",
    "\n",
    "#                 #XGBoost\n",
    "                y_pred = xgboost(X_train[temp_selected_features], y_train, X_test[temp_selected_features])[0]\n",
    "                perf= metrics.f1_score(y_test, y_pred, average= \"weighted\")\n",
    "    \n",
    "                \n",
    "                print(confusion_matrix(y_test, y_pred))\n",
    "                \n",
    "                # If the performance is better than what we have seen so far (we aim for high accuracy)\n",
    "                # we set the current feature to the best feature and the same for the best performance.\n",
    "                if perf > best_perf:\n",
    "                    best_perf = perf\n",
    "                    best_feature = f\n",
    "            # We select the feature with the best performance.\n",
    "            selected_features.append(best_feature)\n",
    "            prev_best_perf = best_perf\n",
    "            ordered_features.append(best_feature)\n",
    "            ordered_scores.append(best_perf)\n",
    "        return selected_features, ordered_features, ordered_scores\n"
   ]
  },
  {
   "cell_type": "code",
   "execution_count": 402,
   "metadata": {},
   "outputs": [
    {
     "name": "stdout",
     "output_type": "stream",
     "text": [
      "['bp_std']\n",
      "{'scale_pos_weight': 50}\n",
      "[[270 157]\n",
      " [ 10   3]]\n",
      "['bp_median']\n",
      "{'scale_pos_weight': 1000}\n",
      "[[122 305]\n",
      " [  5   8]]\n",
      "['days_spent_in_icu']\n",
      "{'scale_pos_weight': 10}\n",
      "[[387  40]\n",
      " [ 10   3]]\n",
      "['bp_max']\n",
      "{'scale_pos_weight': 1000}\n",
      "[[143 284]\n",
      " [  2  11]]\n",
      "['resp_median']\n"
     ]
    },
    {
     "name": "stderr",
     "output_type": "stream",
     "text": [
      "C:\\Users\\doyle\\Anaconda3\\lib\\site-packages\\sklearn\\model_selection\\_search.py:841: DeprecationWarning: The default of the `iid` parameter will change from True to False in version 0.22 and will be removed in 0.24. This will change numeric results when test-set sizes are unequal.\n",
      "  DeprecationWarning)\n"
     ]
    },
    {
     "name": "stdout",
     "output_type": "stream",
     "text": [
      "{'scale_pos_weight': 10}\n",
      "[[375  52]\n",
      " [ 11   2]]\n",
      "['age']\n",
      "{'scale_pos_weight': 25}\n",
      "[[142 285]\n",
      " [  2  11]]\n",
      "['temp_median']\n"
     ]
    },
    {
     "name": "stderr",
     "output_type": "stream",
     "text": [
      "C:\\Users\\doyle\\Anaconda3\\lib\\site-packages\\sklearn\\model_selection\\_search.py:841: DeprecationWarning: The default of the `iid` parameter will change from True to False in version 0.22 and will be removed in 0.24. This will change numeric results when test-set sizes are unequal.\n",
      "  DeprecationWarning)\n"
     ]
    },
    {
     "name": "stdout",
     "output_type": "stream",
     "text": [
      "{'scale_pos_weight': 25}\n",
      "[[293 134]\n",
      " [ 11   2]]\n",
      "['bp_min']\n",
      "{'scale_pos_weight': 1000}\n",
      "[[151 276]\n",
      " [  6   7]]\n",
      "['days_spent_in_icu', 'bp_std']\n",
      "{'scale_pos_weight': 50}\n",
      "[[265 162]\n",
      " [ 11   2]]\n",
      "['days_spent_in_icu', 'bp_median']\n"
     ]
    },
    {
     "name": "stderr",
     "output_type": "stream",
     "text": [
      "C:\\Users\\doyle\\Anaconda3\\lib\\site-packages\\sklearn\\model_selection\\_search.py:841: DeprecationWarning: The default of the `iid` parameter will change from True to False in version 0.22 and will be removed in 0.24. This will change numeric results when test-set sizes are unequal.\n",
      "  DeprecationWarning)\n"
     ]
    },
    {
     "name": "stdout",
     "output_type": "stream",
     "text": [
      "{'scale_pos_weight': 10}\n",
      "[[402  25]\n",
      " [ 11   2]]\n",
      "['days_spent_in_icu', 'bp_max']\n",
      "{'scale_pos_weight': 99}\n",
      "[[239 188]\n",
      " [  7   6]]\n",
      "['days_spent_in_icu', 'resp_median']\n"
     ]
    },
    {
     "name": "stderr",
     "output_type": "stream",
     "text": [
      "C:\\Users\\doyle\\Anaconda3\\lib\\site-packages\\sklearn\\model_selection\\_search.py:841: DeprecationWarning: The default of the `iid` parameter will change from True to False in version 0.22 and will be removed in 0.24. This will change numeric results when test-set sizes are unequal.\n",
      "  DeprecationWarning)\n"
     ]
    },
    {
     "name": "stdout",
     "output_type": "stream",
     "text": [
      "{'scale_pos_weight': 100}\n",
      "[[ 52 375]\n",
      " [  4   9]]\n",
      "['days_spent_in_icu', 'age']\n",
      "{'scale_pos_weight': 1000}\n",
      "[[ 70 357]\n",
      " [  2  11]]\n",
      "['days_spent_in_icu', 'temp_median']\n"
     ]
    },
    {
     "name": "stderr",
     "output_type": "stream",
     "text": [
      "C:\\Users\\doyle\\Anaconda3\\lib\\site-packages\\sklearn\\model_selection\\_search.py:841: DeprecationWarning: The default of the `iid` parameter will change from True to False in version 0.22 and will be removed in 0.24. This will change numeric results when test-set sizes are unequal.\n",
      "  DeprecationWarning)\n"
     ]
    },
    {
     "name": "stdout",
     "output_type": "stream",
     "text": [
      "{'scale_pos_weight': 25}\n",
      "[[324 103]\n",
      " [ 10   3]]\n",
      "['days_spent_in_icu', 'bp_min']\n",
      "{'scale_pos_weight': 10}\n",
      "[[383  44]\n",
      " [ 13   0]]\n",
      "['days_spent_in_icu', 'bp_median', 'bp_std']\n"
     ]
    },
    {
     "name": "stderr",
     "output_type": "stream",
     "text": [
      "C:\\Users\\doyle\\Anaconda3\\lib\\site-packages\\sklearn\\model_selection\\_search.py:841: DeprecationWarning: The default of the `iid` parameter will change from True to False in version 0.22 and will be removed in 0.24. This will change numeric results when test-set sizes are unequal.\n",
      "  DeprecationWarning)\n"
     ]
    },
    {
     "name": "stdout",
     "output_type": "stream",
     "text": [
      "{'scale_pos_weight': 50}\n",
      "[[257 170]\n",
      " [ 10   3]]\n",
      "['days_spent_in_icu', 'bp_median', 'bp_max']\n",
      "{'scale_pos_weight': 25}\n",
      "[[328  99]\n",
      " [ 11   2]]\n",
      "['days_spent_in_icu', 'bp_median', 'resp_median']\n"
     ]
    },
    {
     "name": "stderr",
     "output_type": "stream",
     "text": [
      "C:\\Users\\doyle\\Anaconda3\\lib\\site-packages\\sklearn\\model_selection\\_search.py:841: DeprecationWarning: The default of the `iid` parameter will change from True to False in version 0.22 and will be removed in 0.24. This will change numeric results when test-set sizes are unequal.\n",
      "  DeprecationWarning)\n"
     ]
    },
    {
     "name": "stdout",
     "output_type": "stream",
     "text": [
      "{'scale_pos_weight': 99}\n",
      "[[145 282]\n",
      " [  7   6]]\n",
      "['days_spent_in_icu', 'bp_median', 'age']\n"
     ]
    },
    {
     "name": "stderr",
     "output_type": "stream",
     "text": [
      "C:\\Users\\doyle\\Anaconda3\\lib\\site-packages\\sklearn\\model_selection\\_search.py:841: DeprecationWarning: The default of the `iid` parameter will change from True to False in version 0.22 and will be removed in 0.24. This will change numeric results when test-set sizes are unequal.\n",
      "  DeprecationWarning)\n"
     ]
    },
    {
     "name": "stdout",
     "output_type": "stream",
     "text": [
      "{'scale_pos_weight': 1000}\n",
      "[[122 305]\n",
      " [  6   7]]\n",
      "['days_spent_in_icu', 'bp_median', 'temp_median']\n"
     ]
    },
    {
     "name": "stderr",
     "output_type": "stream",
     "text": [
      "C:\\Users\\doyle\\Anaconda3\\lib\\site-packages\\sklearn\\model_selection\\_search.py:841: DeprecationWarning: The default of the `iid` parameter will change from True to False in version 0.22 and will be removed in 0.24. This will change numeric results when test-set sizes are unequal.\n",
      "  DeprecationWarning)\n"
     ]
    },
    {
     "name": "stdout",
     "output_type": "stream",
     "text": [
      "{'scale_pos_weight': 100}\n",
      "[[193 234]\n",
      " [ 11   2]]\n",
      "['days_spent_in_icu', 'bp_median', 'bp_min']\n"
     ]
    },
    {
     "name": "stderr",
     "output_type": "stream",
     "text": [
      "C:\\Users\\doyle\\Anaconda3\\lib\\site-packages\\sklearn\\model_selection\\_search.py:841: DeprecationWarning: The default of the `iid` parameter will change from True to False in version 0.22 and will be removed in 0.24. This will change numeric results when test-set sizes are unequal.\n",
      "  DeprecationWarning)\n"
     ]
    },
    {
     "name": "stdout",
     "output_type": "stream",
     "text": [
      "{'scale_pos_weight': 1000}\n",
      "[[117 310]\n",
      " [  5   8]]\n",
      "['days_spent_in_icu', 'bp_median', 'bp_max', 'bp_std']\n"
     ]
    },
    {
     "name": "stderr",
     "output_type": "stream",
     "text": [
      "C:\\Users\\doyle\\Anaconda3\\lib\\site-packages\\sklearn\\model_selection\\_search.py:841: DeprecationWarning: The default of the `iid` parameter will change from True to False in version 0.22 and will be removed in 0.24. This will change numeric results when test-set sizes are unequal.\n",
      "  DeprecationWarning)\n"
     ]
    },
    {
     "name": "stdout",
     "output_type": "stream",
     "text": [
      "{'scale_pos_weight': 25}\n",
      "[[320 107]\n",
      " [ 12   1]]\n",
      "['days_spent_in_icu', 'bp_median', 'bp_max', 'resp_median']\n",
      "{'scale_pos_weight': 75}\n",
      "[[260 167]\n",
      " [  8   5]]\n",
      "['days_spent_in_icu', 'bp_median', 'bp_max', 'age']\n"
     ]
    },
    {
     "name": "stderr",
     "output_type": "stream",
     "text": [
      "C:\\Users\\doyle\\Anaconda3\\lib\\site-packages\\sklearn\\model_selection\\_search.py:841: DeprecationWarning: The default of the `iid` parameter will change from True to False in version 0.22 and will be removed in 0.24. This will change numeric results when test-set sizes are unequal.\n",
      "  DeprecationWarning)\n"
     ]
    },
    {
     "name": "stdout",
     "output_type": "stream",
     "text": [
      "{'scale_pos_weight': 75}\n",
      "[[261 166]\n",
      " [  7   6]]\n",
      "['days_spent_in_icu', 'bp_median', 'bp_max', 'temp_median']\n"
     ]
    },
    {
     "name": "stderr",
     "output_type": "stream",
     "text": [
      "C:\\Users\\doyle\\Anaconda3\\lib\\site-packages\\sklearn\\model_selection\\_search.py:841: DeprecationWarning: The default of the `iid` parameter will change from True to False in version 0.22 and will be removed in 0.24. This will change numeric results when test-set sizes are unequal.\n",
      "  DeprecationWarning)\n"
     ]
    },
    {
     "name": "stdout",
     "output_type": "stream",
     "text": [
      "{'scale_pos_weight': 25}\n",
      "[[355  72]\n",
      " [ 13   0]]\n",
      "['days_spent_in_icu', 'bp_median', 'bp_max', 'bp_min']\n",
      "{'scale_pos_weight': 99}\n",
      "[[251 176]\n",
      " [  9   4]]\n",
      "['days_spent_in_icu', 'bp_median', 'bp_max', 'temp_median', 'bp_std']\n",
      "{'scale_pos_weight': 99}\n",
      "[[282 145]\n",
      " [ 10   3]]\n",
      "['days_spent_in_icu', 'bp_median', 'bp_max', 'temp_median', 'bp_min']\n",
      "{'scale_pos_weight': 75}\n",
      "[[295 132]\n",
      " [ 10   3]]\n",
      "['days_spent_in_icu', 'bp_median', 'bp_max', 'temp_median', 'resp_median']\n"
     ]
    },
    {
     "name": "stderr",
     "output_type": "stream",
     "text": [
      "C:\\Users\\doyle\\Anaconda3\\lib\\site-packages\\sklearn\\model_selection\\_search.py:841: DeprecationWarning: The default of the `iid` parameter will change from True to False in version 0.22 and will be removed in 0.24. This will change numeric results when test-set sizes are unequal.\n",
      "  DeprecationWarning)\n"
     ]
    },
    {
     "name": "stdout",
     "output_type": "stream",
     "text": [
      "{'scale_pos_weight': 50}\n",
      "[[302 125]\n",
      " [ 11   2]]\n",
      "['days_spent_in_icu', 'bp_median', 'bp_max', 'temp_median', 'age']\n"
     ]
    },
    {
     "name": "stderr",
     "output_type": "stream",
     "text": [
      "C:\\Users\\doyle\\Anaconda3\\lib\\site-packages\\sklearn\\model_selection\\_search.py:841: DeprecationWarning: The default of the `iid` parameter will change from True to False in version 0.22 and will be removed in 0.24. This will change numeric results when test-set sizes are unequal.\n",
      "  DeprecationWarning)\n"
     ]
    },
    {
     "name": "stdout",
     "output_type": "stream",
     "text": [
      "{'scale_pos_weight': 25}\n",
      "[[348  79]\n",
      " [ 13   0]]\n",
      "['days_spent_in_icu', 'bp_median', 'bp_max', 'temp_median', 'age', 'bp_std']\n"
     ]
    },
    {
     "name": "stderr",
     "output_type": "stream",
     "text": [
      "C:\\Users\\doyle\\Anaconda3\\lib\\site-packages\\sklearn\\model_selection\\_search.py:841: DeprecationWarning: The default of the `iid` parameter will change from True to False in version 0.22 and will be removed in 0.24. This will change numeric results when test-set sizes are unequal.\n",
      "  DeprecationWarning)\n"
     ]
    },
    {
     "name": "stdout",
     "output_type": "stream",
     "text": [
      "{'scale_pos_weight': 10}\n",
      "[[412  15]\n",
      " [ 12   1]]\n",
      "['days_spent_in_icu', 'bp_median', 'bp_max', 'temp_median', 'age', 'bp_min']\n",
      "{'scale_pos_weight': 99}\n",
      "[[261 166]\n",
      " [  8   5]]\n",
      "['days_spent_in_icu', 'bp_median', 'bp_max', 'temp_median', 'age', 'resp_median']\n"
     ]
    },
    {
     "name": "stderr",
     "output_type": "stream",
     "text": [
      "C:\\Users\\doyle\\Anaconda3\\lib\\site-packages\\sklearn\\model_selection\\_search.py:841: DeprecationWarning: The default of the `iid` parameter will change from True to False in version 0.22 and will be removed in 0.24. This will change numeric results when test-set sizes are unequal.\n",
      "  DeprecationWarning)\n"
     ]
    },
    {
     "name": "stdout",
     "output_type": "stream",
     "text": [
      "{'scale_pos_weight': 25}\n",
      "[[343  84]\n",
      " [ 13   0]]\n",
      "['days_spent_in_icu', 'bp_median', 'bp_max', 'temp_median', 'age', 'bp_std', 'bp_min']\n"
     ]
    },
    {
     "name": "stderr",
     "output_type": "stream",
     "text": [
      "C:\\Users\\doyle\\Anaconda3\\lib\\site-packages\\sklearn\\model_selection\\_search.py:841: DeprecationWarning: The default of the `iid` parameter will change from True to False in version 0.22 and will be removed in 0.24. This will change numeric results when test-set sizes are unequal.\n",
      "  DeprecationWarning)\n"
     ]
    },
    {
     "name": "stdout",
     "output_type": "stream",
     "text": [
      "{'scale_pos_weight': 50}\n",
      "[[320 107]\n",
      " [ 10   3]]\n",
      "['days_spent_in_icu', 'bp_median', 'bp_max', 'temp_median', 'age', 'bp_std', 'resp_median']\n"
     ]
    },
    {
     "name": "stderr",
     "output_type": "stream",
     "text": [
      "C:\\Users\\doyle\\Anaconda3\\lib\\site-packages\\sklearn\\model_selection\\_search.py:841: DeprecationWarning: The default of the `iid` parameter will change from True to False in version 0.22 and will be removed in 0.24. This will change numeric results when test-set sizes are unequal.\n",
      "  DeprecationWarning)\n"
     ]
    },
    {
     "name": "stdout",
     "output_type": "stream",
     "text": [
      "{'scale_pos_weight': 25}\n",
      "[[354  73]\n",
      " [ 11   2]]\n",
      "['days_spent_in_icu', 'bp_median', 'bp_max', 'temp_median', 'age', 'bp_std', 'resp_median', 'bp_min']\n",
      "{'scale_pos_weight': 50}\n",
      "[[312 115]\n",
      " [ 11   2]]\n",
      "['days_spent_in_icu', 'bp_median', 'bp_max', 'temp_median', 'age', 'bp_std', 'resp_median', 'bp_min']\n",
      "[0.9147333249274997, 0.93181818181818199, 0.8321309147542485, 0.86669525443110351, 0.85715274573142597, 0.94170218330638122, 0.86887052341597781, 0.80832727272727267]\n"
     ]
    },
    {
     "data": {
      "image/png": "[encoded data removed]",
      "text/plain": [
       "<Figure size 432x288 with 1 Axes>"
      ]
     },
     "metadata": {
      "needs_background": "light"
     },
     "output_type": "display_data"
    }
   ],
   "source": [
    "#Visualise Results from Feature Selection \n",
    "\n",
    "fs = FeatureSelectionClassification()\n",
    "features, ordered_features, ordered_scores = fs.forward_selection(8, X_train, y_train) #(50, train_X[features_after_chapter_5], train_y)\n",
    "print(ordered_features)\n",
    "print(ordered_scores)\n",
    "\n",
    "import matplotlib.pyplot as plot\n",
    "\n",
    "plot.plot(range(1,9), ordered_scores)\n",
    "plot.xlabel('number of features')\n",
    "plot.ylabel('F1')\n",
    "plot.show()\n"
   ]
  },
  {
   "cell_type": "markdown",
   "metadata": {},
   "source": [
    "### Train and test the actual model with selected features"
   ]
  },
  {
   "cell_type": "code",
   "execution_count": 408,
   "metadata": {
    "collapsed": true,
    "jupyter": {
     "outputs_hidden": true
    }
   },
   "outputs": [],
   "source": [
    "selected_features=['days_spent_in_icu', 'bp_median', 'bp_max', 'temp_median', 'age', 'bp_std']\n",
    "selected_train_X=X_train[selected_features]\n",
    "selected_test_X= X_test[selected_features]"
   ]
  },
  {
   "cell_type": "code",
   "execution_count": 409,
   "metadata": {
    "collapsed": false,
    "jupyter": {
     "outputs_hidden": false
    }
   },
   "outputs": [
    {
     "name": "stderr",
     "output_type": "stream",
     "text": [
      "C:\\Users\\doyle\\Anaconda3\\lib\\site-packages\\sklearn\\model_selection\\_search.py:841: DeprecationWarning: The default of the `iid` parameter will change from True to False in version 0.22 and will be removed in 0.24. This will change numeric results when test-set sizes are unequal.\n",
      "  DeprecationWarning)\n"
     ]
    },
    {
     "name": "stdout",
     "output_type": "stream",
     "text": [
      "{'scale_pos_weight': 10}\n"
     ]
    },
    {
     "name": "stderr",
     "output_type": "stream",
     "text": [
      "C:\\Users\\doyle\\Anaconda3\\lib\\site-packages\\sklearn\\model_selection\\_search.py:841: DeprecationWarning: The default of the `iid` parameter will change from True to False in version 0.22 and will be removed in 0.24. This will change numeric results when test-set sizes are unequal.\n",
      "  DeprecationWarning)\n"
     ]
    },
    {
     "name": "stdout",
     "output_type": "stream",
     "text": [
      "{'scale_pos_weight': 10}\n"
     ]
    },
    {
     "name": "stderr",
     "output_type": "stream",
     "text": [
      "C:\\Users\\doyle\\Anaconda3\\lib\\site-packages\\sklearn\\model_selection\\_search.py:841: DeprecationWarning: The default of the `iid` parameter will change from True to False in version 0.22 and will be removed in 0.24. This will change numeric results when test-set sizes are unequal.\n",
      "  DeprecationWarning)\n"
     ]
    },
    {
     "name": "stdout",
     "output_type": "stream",
     "text": [
      "{'scale_pos_weight': 10}\n",
      "Performance XGBoost Training Vs. Test F1 score\n",
      "0.972140378071 0.941702183306\n",
      "Performance SVM Training Vs. Test F1 score\n",
      "0.785366204861 0.748728057053\n"
     ]
    }
   ],
   "source": [
    "# Test the most promising classification algortihms which were XGBoost and the SVM. Run three times and get the average performance on training and test set. \n",
    "repeats=3\n",
    "\n",
    "performance_ts_xgb=0\n",
    "performance_tr_xgb=0\n",
    "\n",
    "performance_ts_svm=0\n",
    "performance_tr_svm=0\n",
    "\n",
    "for repeat in range(0, repeats):\n",
    "        y_pred_test, y_pred_train  = xgboost(selected_train_X, y_train, selected_test_X)\n",
    "        performance_ts_xgb+= metrics.f1_score(y_test, y_pred_test, average= \"weighted\")\n",
    "        performance_tr_xgb+= metrics.f1_score(y_train, y_pred_train, average= \"weighted\")\n",
    "\n",
    "        y_pred_test, y_pred_train  = support_vector_machine_with_kernel(selected_train_X, y_train, selected_test_X)\n",
    "        performance_ts_svm+= metrics.f1_score(y_test, y_pred_test, average= \"weighted\")\n",
    "        performance_tr_svm+= metrics.f1_score(y_train, y_pred_train, average= \"weighted\")\n",
    "        \n",
    "performance_ts_xgb= performance_ts_xgb/repeats\n",
    "performance_tr_xgb= performance_tr_xgb/repeats\n",
    "\n",
    "performance_ts_svm= performance_ts_svm/repeats\n",
    "performance_tr_svm= performance_tr_svm/repeats\n",
    "\n",
    "print(\"Performance XGBoost Training Vs. Test F1 score\")\n",
    "print(performance_tr_xgb, performance_ts_xgb)\n",
    "print(\"Performance SVM Training Vs. Test F1 score\")\n",
    "print(performance_tr_svm, performance_ts_svm)\n"
   ]
  },
  {
   "cell_type": "markdown",
   "metadata": {},
   "source": [
    "So the best performance overall we found with XGBoost and an implemented grid search. So the best performance overall we found with XGBoost and an implemented grid search. \n",
    "The results still seem quite high to me, so maybe there is some overfitting going on. We could add some regularisation. \n",
    "4 Features were selected, which included a measure of the blood pressure and the respiration rate, as well as age and days spent in the ICU during the admision of the patient. Age and days_since_admission are risk factors. \n",
    "The results of the model were  better without removing the blood pressure outliers (that were physiological). "
   ]
  }
 ],
 "metadata": {
  "kernelspec": {
   "display_name": "Python 3",
   "language": "python",
   "name": "python3"
  },
  "language_info": {
   "codemirror_mode": {
    "name": "ipython",
    "version": 3
   },
   "file_extension": ".py",
   "mimetype": "text/x-python",
   "name": "python",
   "nbconvert_exporter": "python",
   "pygments_lexer": "ipython3",
   "version": "3.7.4"
  }
 },
 "nbformat": 4,
 "nbformat_minor": 4
}
